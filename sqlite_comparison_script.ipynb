{
 "cells": [
  {
   "cell_type": "code",
   "execution_count": 9,
   "metadata": {},
   "outputs": [
    {
     "name": "stdout",
     "output_type": "stream",
     "text": [
      "Comparison of mismatched values complete. Results saved to the output database.\n"
     ]
    }
   ],
   "source": [
    "import sqlite3\n",
    "import pandas as pd\n",
    "\n",
    "# Define database locations\n",
    "db_a_path = r'C:\\Users\\NicholasRatti\\OneDrive - Fernandina Capital, LLC\\Fernandina Capital\\Projects\\Active\\Python\\Markov_Regime_Switching_Model\\daily\\output\\financial_model.db'\n",
    "db_b_path = r'C:\\Users\\NicholasRatti\\OneDrive - Fernandina Capital, LLC\\Fernandina Capital\\Projects\\Active\\Python\\Markov_Regime_Switching_Model\\financial_model_test.db'\n",
    "output_db_path = r'C:\\Users\\NicholasRatti\\OneDrive - Fernandina Capital, LLC\\Fernandina Capital\\Projects\\Active\\Python\\Markov_Regime_Switching_Model\\comparison_output.db'\n",
    "\n",
    "# Connect to the databases\n",
    "conn_a = sqlite3.connect(db_a_path)\n",
    "conn_b = sqlite3.connect(db_b_path)\n",
    "output_conn = sqlite3.connect(output_db_path)\n",
    "\n",
    "# Query to retrieve Date and Adjusted_Market_Regime values\n",
    "query = \"SELECT Date, Adjusted_Market_Regime FROM financial_data\"  # Replace 'financial_data' with the actual table name\n",
    "\n",
    "# Load data from both databases into DataFrames\n",
    "df_a = pd.read_sql_query(query, conn_a)\n",
    "df_b = pd.read_sql_query(query, conn_b)\n",
    "\n",
    "# Close connections for input databases\n",
    "conn_a.close()\n",
    "conn_b.close()\n",
    "\n",
    "# Set the 'Date' column as the index and ensure it's in datetime format\n",
    "df_a['Date'] = pd.to_datetime(df_a['Date'])\n",
    "df_b['Date'] = pd.to_datetime(df_b['Date'])\n",
    "df_a.set_index('Date', inplace=True)\n",
    "df_b.set_index('Date', inplace=True)\n",
    "\n",
    "# Merge DataFrames on the Date index\n",
    "merged_df = pd.merge(df_a, df_b, left_index=True, right_index=True, suffixes=('_A', '_B'))\n",
    "\n",
    "# Compare values and create a 'Match' column\n",
    "merged_df['Match'] = merged_df['Adjusted_Market_Regime_A'] == merged_df['Adjusted_Market_Regime_B']\n",
    "\n",
    "# Filter only rows where Match is False\n",
    "mismatched_df = merged_df[merged_df['Match'] == False]\n",
    "\n",
    "# Rename columns for clarity\n",
    "mismatched_df = mismatched_df.rename(columns={\n",
    "    'Adjusted_Market_Regime_A': 'Value_From_Database_A',\n",
    "    'Adjusted_Market_Regime_B': 'Value_From_Database_B'\n",
    "})\n",
    "\n",
    "# Write the mismatched rows to the output database\n",
    "mismatched_df.to_sql('comparison_results', output_conn, if_exists='replace', index=True)\n",
    "\n",
    "# Close output connection\n",
    "output_conn.close()\n",
    "\n",
    "print(\"Comparison of mismatched values complete. Results saved to the output database.\")\n"
   ]
  },
  {
   "cell_type": "code",
   "execution_count": null,
   "metadata": {},
   "outputs": [],
   "source": []
  }
 ],
 "metadata": {
  "kernelspec": {
   "display_name": "Python (msm_env)",
   "language": "python",
   "name": "msm_env"
  }
 },
 "nbformat": 4,
 "nbformat_minor": 2
}
