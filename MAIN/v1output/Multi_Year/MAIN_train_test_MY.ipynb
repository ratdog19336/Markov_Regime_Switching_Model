{
 "cells": [
  {
   "cell_type": "markdown",
   "metadata": {},
   "source": [
    "This version is meant to iterate over itself and show at the end a graph of all of the mismatched values based on the number of years\n",
    "This is the final stage analysis of prediction\n",
    "We see a massive drop post 1980, which is interesting and may indicate a regime change"
   ]
  },
  {
   "cell_type": "code",
   "execution_count": null,
   "metadata": {},
   "outputs": [
    {
     "name": "stdout",
     "output_type": "stream",
     "text": [
      "[*********************100%***********************]  1 of 1 completed\n"
     ]
    },
    {
     "name": "stderr",
     "output_type": "stream",
     "text": [
      "C:\\Users\\NicholasRatti\\AppData\\Local\\Temp\\ipykernel_96532\\1458006824.py:21: SettingWithCopyWarning: \n",
      "A value is trying to be set on a copy of a slice from a DataFrame\n",
      "\n",
      "See the caveats in the documentation: https://pandas.pydata.org/pandas-docs/stable/user_guide/indexing.html#returning-a-view-versus-a-copy\n",
      "  data.rename(columns={'Adj Close': 'Adj_Close'}, inplace=True)\n",
      "C:\\Users\\NicholasRatti\\AppData\\Local\\Temp\\ipykernel_96532\\1458006824.py:24: SettingWithCopyWarning: \n",
      "A value is trying to be set on a copy of a slice from a DataFrame.\n",
      "Try using .loc[row_indexer,col_indexer] = value instead\n",
      "\n",
      "See the caveats in the documentation: https://pandas.pydata.org/pandas-docs/stable/user_guide/indexing.html#returning-a-view-versus-a-copy\n",
      "  data['Index_Returns'] = data['Adj_Close'].pct_change()\n",
      "C:\\Users\\NicholasRatti\\AppData\\Local\\Temp\\ipykernel_96532\\1458006824.py:25: SettingWithCopyWarning: \n",
      "A value is trying to be set on a copy of a slice from a DataFrame\n",
      "\n",
      "See the caveats in the documentation: https://pandas.pydata.org/pandas-docs/stable/user_guide/indexing.html#returning-a-view-versus-a-copy\n",
      "  data.dropna(inplace=True)\n",
      "C:\\Users\\NicholasRatti\\anaconda3\\envs\\msm_env\\lib\\site-packages\\statsmodels\\tsa\\base\\tsa_model.py:473: ValueWarning: A date index has been provided, but it has no associated frequency information and so will be ignored when e.g. forecasting.\n",
      "  self._init_dates(dates, freq)\n"
     ]
    }
   ],
   "source": [
    "# Import necessary libraries\n",
    "import numpy as np\n",
    "import pandas as pd\n",
    "import yfinance as yf\n",
    "from statsmodels.tsa.regime_switching.markov_regression import MarkovRegression\n",
    "import matplotlib.pyplot as plt\n",
    "from datetime import datetime\n",
    "import seaborn as sns\n",
    "color_pal = sns.color_palette()\n",
    "\n",
    "# Parameters\n",
    "ticker = \"^GSPC\"  # S&P 500 Index\n",
    "start_date = \"1950-01-01\"\n",
    "end_date = datetime.today().strftime('%Y-%m-%d')  # Use today's date\n",
    "\n",
    "# Download data\n",
    "data = yf.download(ticker, start=start_date, end=end_date)\n",
    "\n",
    "# Use adjusted close price\n",
    "data = data[['Adj Close']]\n",
    "data.rename(columns={'Adj Close': 'Adj_Close'}, inplace=True)\n",
    "\n",
    "# Calculate daily returns\n",
    "data['Index_Returns'] = data['Adj_Close'].pct_change()\n",
    "data.dropna(inplace=True)\n",
    "\n",
    "# Fit Markov Switching Model on full data with switching trend\n",
    "returns = data['Index_Returns']\n",
    "full_model = MarkovRegression(returns, k_regimes=2, trend='c', switching_variance=True, switching_trend=True)\n",
    "full_result = full_model.fit(disp=False)\n",
    "full_regimes = full_result.smoothed_marginal_probabilities.idxmax(axis=1)"
   ]
  },
  {
   "cell_type": "code",
   "execution_count": 7,
   "metadata": {},
   "outputs": [],
   "source": [
    "# Prepare a list of split dates from 1980 to 2019, incremented by one year\n",
    "split_years = list(range(1980, 2020))  # From 1980 to 2019\n",
    "split_dates = [f\"{year}-01-01\" for year in split_years]\n",
    "\n",
    "# Initialize a list to store the results\n",
    "results = []"
   ]
  },
  {
   "cell_type": "code",
   "execution_count": 11,
   "metadata": {},
   "outputs": [
    {
     "name": "stdout",
     "output_type": "stream",
     "text": [
      "Processing split date: 1980-01-01\n"
     ]
    },
    {
     "name": "stderr",
     "output_type": "stream",
     "text": [
      "C:\\Users\\NicholasRatti\\anaconda3\\envs\\msm_env\\lib\\site-packages\\statsmodels\\tsa\\base\\tsa_model.py:473: ValueWarning: A date index has been provided, but it has no associated frequency information and so will be ignored when e.g. forecasting.\n",
      "  self._init_dates(dates, freq)\n"
     ]
    },
    {
     "name": "stdout",
     "output_type": "stream",
     "text": [
      "Model parameters:\n",
      "p[0->0]      0.980954\n",
      "p[1->0]      0.045557\n",
      "const[0]     0.000630\n",
      "const[1]    -0.000569\n",
      "sigma2[0]    0.000025\n",
      "sigma2[1]    0.000127\n",
      "dtype: float64\n",
      "Processing split date: 1981-01-01\n"
     ]
    },
    {
     "name": "stderr",
     "output_type": "stream",
     "text": [
      "C:\\Users\\NicholasRatti\\anaconda3\\envs\\msm_env\\lib\\site-packages\\statsmodels\\tsa\\base\\tsa_model.py:473: ValueWarning: A date index has been provided, but it has no associated frequency information and so will be ignored when e.g. forecasting.\n",
      "  self._init_dates(dates, freq)\n"
     ]
    },
    {
     "name": "stdout",
     "output_type": "stream",
     "text": [
      "Model parameters:\n",
      "p[0->0]      0.980813\n",
      "p[1->0]      0.040253\n",
      "const[0]     0.000633\n",
      "const[1]    -0.000406\n",
      "sigma2[0]    0.000025\n",
      "sigma2[1]    0.000124\n",
      "dtype: float64\n",
      "Processing split date: 1982-01-01\n"
     ]
    },
    {
     "name": "stderr",
     "output_type": "stream",
     "text": [
      "C:\\Users\\NicholasRatti\\anaconda3\\envs\\msm_env\\lib\\site-packages\\statsmodels\\tsa\\base\\tsa_model.py:473: ValueWarning: A date index has been provided, but it has no associated frequency information and so will be ignored when e.g. forecasting.\n",
      "  self._init_dates(dates, freq)\n"
     ]
    },
    {
     "name": "stdout",
     "output_type": "stream",
     "text": [
      "Model parameters:\n",
      "p[0->0]      0.981295\n",
      "p[1->0]      0.036668\n",
      "const[0]     0.000620\n",
      "const[1]    -0.000394\n",
      "sigma2[0]    0.000026\n",
      "sigma2[1]    0.000120\n",
      "dtype: float64\n",
      "Processing split date: 1983-01-01\n"
     ]
    },
    {
     "name": "stderr",
     "output_type": "stream",
     "text": [
      "C:\\Users\\NicholasRatti\\anaconda3\\envs\\msm_env\\lib\\site-packages\\statsmodels\\tsa\\base\\tsa_model.py:473: ValueWarning: A date index has been provided, but it has no associated frequency information and so will be ignored when e.g. forecasting.\n",
      "  self._init_dates(dates, freq)\n"
     ]
    },
    {
     "name": "stdout",
     "output_type": "stream",
     "text": [
      "Model parameters:\n",
      "p[0->0]      0.982121\n",
      "p[1->0]      0.034440\n",
      "const[0]     0.000590\n",
      "const[1]    -0.000297\n",
      "sigma2[0]    0.000026\n",
      "sigma2[1]    0.000125\n",
      "dtype: float64\n",
      "Processing split date: 1984-01-01\n"
     ]
    },
    {
     "name": "stderr",
     "output_type": "stream",
     "text": [
      "C:\\Users\\NicholasRatti\\anaconda3\\envs\\msm_env\\lib\\site-packages\\statsmodels\\tsa\\base\\tsa_model.py:473: ValueWarning: A date index has been provided, but it has no associated frequency information and so will be ignored when e.g. forecasting.\n",
      "  self._init_dates(dates, freq)\n"
     ]
    },
    {
     "name": "stdout",
     "output_type": "stream",
     "text": [
      "Model parameters:\n",
      "p[0->0]      0.982883\n",
      "p[1->0]      0.031726\n",
      "const[0]     0.000574\n",
      "const[1]    -0.000211\n",
      "sigma2[0]    0.000027\n",
      "sigma2[1]    0.000122\n",
      "dtype: float64\n",
      "Processing split date: 1985-01-01\n"
     ]
    },
    {
     "name": "stderr",
     "output_type": "stream",
     "text": [
      "C:\\Users\\NicholasRatti\\anaconda3\\envs\\msm_env\\lib\\site-packages\\statsmodels\\tsa\\base\\tsa_model.py:473: ValueWarning: A date index has been provided, but it has no associated frequency information and so will be ignored when e.g. forecasting.\n",
      "  self._init_dates(dates, freq)\n"
     ]
    },
    {
     "name": "stdout",
     "output_type": "stream",
     "text": [
      "Model parameters:\n",
      "p[0->0]      0.982113\n",
      "p[1->0]      0.033566\n",
      "const[0]     0.000533\n",
      "const[1]    -0.000158\n",
      "sigma2[0]    0.000027\n",
      "sigma2[1]    0.000123\n",
      "dtype: float64\n",
      "Processing split date: 1986-01-01\n"
     ]
    },
    {
     "name": "stderr",
     "output_type": "stream",
     "text": [
      "C:\\Users\\NicholasRatti\\anaconda3\\envs\\msm_env\\lib\\site-packages\\statsmodels\\tsa\\base\\tsa_model.py:473: ValueWarning: A date index has been provided, but it has no associated frequency information and so will be ignored when e.g. forecasting.\n",
      "  self._init_dates(dates, freq)\n"
     ]
    },
    {
     "name": "stdout",
     "output_type": "stream",
     "text": [
      "Model parameters:\n",
      "p[0->0]      0.983813\n",
      "p[1->0]      0.033847\n",
      "const[0]     0.000522\n",
      "const[1]    -0.000130\n",
      "sigma2[0]    0.000028\n",
      "sigma2[1]    0.000126\n",
      "dtype: float64\n",
      "Processing split date: 1987-01-01\n"
     ]
    },
    {
     "name": "stderr",
     "output_type": "stream",
     "text": [
      "C:\\Users\\NicholasRatti\\anaconda3\\envs\\msm_env\\lib\\site-packages\\statsmodels\\tsa\\base\\tsa_model.py:473: ValueWarning: A date index has been provided, but it has no associated frequency information and so will be ignored when e.g. forecasting.\n",
      "  self._init_dates(dates, freq)\n"
     ]
    },
    {
     "name": "stdout",
     "output_type": "stream",
     "text": [
      "Model parameters:\n",
      "p[0->0]      0.982619\n",
      "p[1->0]      0.032877\n",
      "const[0]     0.000541\n",
      "const[1]    -0.000103\n",
      "sigma2[0]    0.000028\n",
      "sigma2[1]    0.000122\n",
      "dtype: float64\n",
      "Processing split date: 1988-01-01\n"
     ]
    },
    {
     "name": "stderr",
     "output_type": "stream",
     "text": [
      "C:\\Users\\NicholasRatti\\anaconda3\\envs\\msm_env\\lib\\site-packages\\statsmodels\\tsa\\base\\tsa_model.py:473: ValueWarning: A date index has been provided, but it has no associated frequency information and so will be ignored when e.g. forecasting.\n",
      "  self._init_dates(dates, freq)\n"
     ]
    },
    {
     "name": "stdout",
     "output_type": "stream",
     "text": [
      "Model parameters:\n",
      "p[0->0]      0.986068\n",
      "p[1->0]      0.048964\n",
      "const[0]     0.000509\n",
      "const[1]    -0.000358\n",
      "sigma2[0]    0.000034\n",
      "sigma2[1]    0.000196\n",
      "dtype: float64\n",
      "Processing split date: 1989-01-01\n"
     ]
    },
    {
     "name": "stderr",
     "output_type": "stream",
     "text": [
      "C:\\Users\\NicholasRatti\\anaconda3\\envs\\msm_env\\lib\\site-packages\\statsmodels\\tsa\\base\\tsa_model.py:473: ValueWarning: A date index has been provided, but it has no associated frequency information and so will be ignored when e.g. forecasting.\n",
      "  self._init_dates(dates, freq)\n"
     ]
    },
    {
     "name": "stdout",
     "output_type": "stream",
     "text": [
      "Model parameters:\n",
      "p[0->0]      0.985402\n",
      "p[1->0]      0.047733\n",
      "const[0]     0.000506\n",
      "const[1]    -0.000275\n",
      "sigma2[0]    0.000034\n",
      "sigma2[1]    0.000192\n",
      "dtype: float64\n",
      "Processing split date: 1990-01-01\n"
     ]
    },
    {
     "name": "stderr",
     "output_type": "stream",
     "text": [
      "C:\\Users\\NicholasRatti\\anaconda3\\envs\\msm_env\\lib\\site-packages\\statsmodels\\tsa\\base\\tsa_model.py:473: ValueWarning: A date index has been provided, but it has no associated frequency information and so will be ignored when e.g. forecasting.\n",
      "  self._init_dates(dates, freq)\n"
     ]
    },
    {
     "name": "stdout",
     "output_type": "stream",
     "text": [
      "Model parameters:\n",
      "p[0->0]      0.985429\n",
      "p[1->0]      0.051728\n",
      "const[0]     0.000535\n",
      "const[1]    -0.000353\n",
      "sigma2[0]    0.000035\n",
      "sigma2[1]    0.000199\n",
      "dtype: float64\n",
      "Processing split date: 1991-01-01\n"
     ]
    },
    {
     "name": "stderr",
     "output_type": "stream",
     "text": [
      "C:\\Users\\NicholasRatti\\anaconda3\\envs\\msm_env\\lib\\site-packages\\statsmodels\\tsa\\base\\tsa_model.py:473: ValueWarning: A date index has been provided, but it has no associated frequency information and so will be ignored when e.g. forecasting.\n",
      "  self._init_dates(dates, freq)\n"
     ]
    },
    {
     "name": "stdout",
     "output_type": "stream",
     "text": [
      "Model parameters:\n",
      "p[0->0]      0.985996\n",
      "p[1->0]      0.049678\n",
      "const[0]     0.000540\n",
      "const[1]    -0.000431\n",
      "sigma2[0]    0.000035\n",
      "sigma2[1]    0.000200\n",
      "dtype: float64\n",
      "Processing split date: 1992-01-01\n"
     ]
    },
    {
     "name": "stderr",
     "output_type": "stream",
     "text": [
      "C:\\Users\\NicholasRatti\\anaconda3\\envs\\msm_env\\lib\\site-packages\\statsmodels\\tsa\\base\\tsa_model.py:473: ValueWarning: A date index has been provided, but it has no associated frequency information and so will be ignored when e.g. forecasting.\n",
      "  self._init_dates(dates, freq)\n"
     ]
    },
    {
     "name": "stdout",
     "output_type": "stream",
     "text": [
      "Model parameters:\n",
      "p[0->0]      0.984858\n",
      "p[1->0]      0.051518\n",
      "const[0]     0.000534\n",
      "const[1]    -0.000315\n",
      "sigma2[0]    0.000035\n",
      "sigma2[1]    0.000196\n",
      "dtype: float64\n",
      "Processing split date: 1993-01-01\n"
     ]
    },
    {
     "name": "stderr",
     "output_type": "stream",
     "text": [
      "C:\\Users\\NicholasRatti\\anaconda3\\envs\\msm_env\\lib\\site-packages\\statsmodels\\tsa\\base\\tsa_model.py:473: ValueWarning: A date index has been provided, but it has no associated frequency information and so will be ignored when e.g. forecasting.\n",
      "  self._init_dates(dates, freq)\n"
     ]
    },
    {
     "name": "stdout",
     "output_type": "stream",
     "text": [
      "Model parameters:\n",
      "p[0->0]      0.985141\n",
      "p[1->0]      0.052106\n",
      "const[0]     0.000520\n",
      "const[1]    -0.000300\n",
      "sigma2[0]    0.000035\n",
      "sigma2[1]    0.000196\n",
      "dtype: float64\n",
      "Processing split date: 1994-01-01\n"
     ]
    },
    {
     "name": "stderr",
     "output_type": "stream",
     "text": [
      "C:\\Users\\NicholasRatti\\anaconda3\\envs\\msm_env\\lib\\site-packages\\statsmodels\\tsa\\base\\tsa_model.py:473: ValueWarning: A date index has been provided, but it has no associated frequency information and so will be ignored when e.g. forecasting.\n",
      "  self._init_dates(dates, freq)\n"
     ]
    },
    {
     "name": "stdout",
     "output_type": "stream",
     "text": [
      "Model parameters:\n",
      "p[0->0]      0.985179\n",
      "p[1->0]      0.051855\n",
      "const[0]     0.000516\n",
      "const[1]    -0.000288\n",
      "sigma2[0]    0.000035\n",
      "sigma2[1]    0.000193\n",
      "dtype: float64\n",
      "Processing split date: 1995-01-01\n"
     ]
    },
    {
     "name": "stderr",
     "output_type": "stream",
     "text": [
      "C:\\Users\\NicholasRatti\\anaconda3\\envs\\msm_env\\lib\\site-packages\\statsmodels\\tsa\\base\\tsa_model.py:473: ValueWarning: A date index has been provided, but it has no associated frequency information and so will be ignored when e.g. forecasting.\n",
      "  self._init_dates(dates, freq)\n"
     ]
    },
    {
     "name": "stdout",
     "output_type": "stream",
     "text": [
      "Model parameters:\n",
      "p[0->0]      0.985269\n",
      "p[1->0]      0.052649\n",
      "const[0]     0.000504\n",
      "const[1]    -0.000300\n",
      "sigma2[0]    0.000035\n",
      "sigma2[1]    0.000193\n",
      "dtype: float64\n",
      "Processing split date: 1996-01-01\n"
     ]
    },
    {
     "name": "stderr",
     "output_type": "stream",
     "text": [
      "C:\\Users\\NicholasRatti\\anaconda3\\envs\\msm_env\\lib\\site-packages\\statsmodels\\tsa\\base\\tsa_model.py:473: ValueWarning: A date index has been provided, but it has no associated frequency information and so will be ignored when e.g. forecasting.\n",
      "  self._init_dates(dates, freq)\n"
     ]
    },
    {
     "name": "stdout",
     "output_type": "stream",
     "text": [
      "Model parameters:\n",
      "p[0->0]      0.985486\n",
      "p[1->0]      0.051266\n",
      "const[0]     0.000527\n",
      "const[1]    -0.000290\n",
      "sigma2[0]    0.000034\n",
      "sigma2[1]    0.000189\n",
      "dtype: float64\n",
      "Processing split date: 1997-01-01\n"
     ]
    },
    {
     "name": "stderr",
     "output_type": "stream",
     "text": [
      "C:\\Users\\NicholasRatti\\anaconda3\\envs\\msm_env\\lib\\site-packages\\statsmodels\\tsa\\base\\tsa_model.py:473: ValueWarning: A date index has been provided, but it has no associated frequency information and so will be ignored when e.g. forecasting.\n",
      "  self._init_dates(dates, freq)\n"
     ]
    },
    {
     "name": "stdout",
     "output_type": "stream",
     "text": [
      "Model parameters:\n",
      "p[0->0]      0.984999\n",
      "p[1->0]      0.052356\n",
      "const[0]     0.000547\n",
      "const[1]    -0.000314\n",
      "sigma2[0]    0.000034\n",
      "sigma2[1]    0.000187\n",
      "dtype: float64\n",
      "Processing split date: 1998-01-01\n"
     ]
    },
    {
     "name": "stderr",
     "output_type": "stream",
     "text": [
      "C:\\Users\\NicholasRatti\\anaconda3\\envs\\msm_env\\lib\\site-packages\\statsmodels\\tsa\\base\\tsa_model.py:473: ValueWarning: A date index has been provided, but it has no associated frequency information and so will be ignored when e.g. forecasting.\n",
      "  self._init_dates(dates, freq)\n"
     ]
    },
    {
     "name": "stdout",
     "output_type": "stream",
     "text": [
      "Model parameters:\n",
      "p[0->0]      0.984721\n",
      "p[1->0]      0.049905\n",
      "const[0]     0.000555\n",
      "const[1]    -0.000229\n",
      "sigma2[0]    0.000034\n",
      "sigma2[1]    0.000185\n",
      "dtype: float64\n",
      "Processing split date: 1999-01-01\n"
     ]
    },
    {
     "name": "stderr",
     "output_type": "stream",
     "text": [
      "C:\\Users\\NicholasRatti\\anaconda3\\envs\\msm_env\\lib\\site-packages\\statsmodels\\tsa\\base\\tsa_model.py:473: ValueWarning: A date index has been provided, but it has no associated frequency information and so will be ignored when e.g. forecasting.\n",
      "  self._init_dates(dates, freq)\n"
     ]
    },
    {
     "name": "stdout",
     "output_type": "stream",
     "text": [
      "Model parameters:\n",
      "p[0->0]      0.984742\n",
      "p[1->0]      0.051199\n",
      "const[0]     0.000570\n",
      "const[1]    -0.000237\n",
      "sigma2[0]    0.000035\n",
      "sigma2[1]    0.000194\n",
      "dtype: float64\n",
      "Processing split date: 2000-01-01\n"
     ]
    },
    {
     "name": "stderr",
     "output_type": "stream",
     "text": [
      "C:\\Users\\NicholasRatti\\anaconda3\\envs\\msm_env\\lib\\site-packages\\statsmodels\\tsa\\base\\tsa_model.py:473: ValueWarning: A date index has been provided, but it has no associated frequency information and so will be ignored when e.g. forecasting.\n",
      "  self._init_dates(dates, freq)\n"
     ]
    },
    {
     "name": "stdout",
     "output_type": "stream",
     "text": [
      "Model parameters:\n",
      "p[0->0]      0.985332\n",
      "p[1->0]      0.043394\n",
      "const[0]     0.000575\n",
      "const[1]    -0.000146\n",
      "sigma2[0]    0.000035\n",
      "sigma2[1]    0.000184\n",
      "dtype: float64\n",
      "Processing split date: 2001-01-01\n"
     ]
    },
    {
     "name": "stderr",
     "output_type": "stream",
     "text": [
      "C:\\Users\\NicholasRatti\\anaconda3\\envs\\msm_env\\lib\\site-packages\\statsmodels\\tsa\\base\\tsa_model.py:473: ValueWarning: A date index has been provided, but it has no associated frequency information and so will be ignored when e.g. forecasting.\n",
      "  self._init_dates(dates, freq)\n"
     ]
    },
    {
     "name": "stdout",
     "output_type": "stream",
     "text": [
      "Model parameters:\n",
      "p[0->0]      0.985938\n",
      "p[1->0]      0.039826\n",
      "const[0]     0.000572\n",
      "const[1]    -0.000171\n",
      "sigma2[0]    0.000035\n",
      "sigma2[1]    0.000188\n",
      "dtype: float64\n",
      "Processing split date: 2002-01-01\n"
     ]
    },
    {
     "name": "stderr",
     "output_type": "stream",
     "text": [
      "C:\\Users\\NicholasRatti\\anaconda3\\envs\\msm_env\\lib\\site-packages\\statsmodels\\tsa\\base\\tsa_model.py:473: ValueWarning: A date index has been provided, but it has no associated frequency information and so will be ignored when e.g. forecasting.\n",
      "  self._init_dates(dates, freq)\n"
     ]
    },
    {
     "name": "stdout",
     "output_type": "stream",
     "text": [
      "Model parameters:\n",
      "p[0->0]      0.986243\n",
      "p[1->0]      0.037253\n",
      "const[0]     0.000574\n",
      "const[1]    -0.000210\n",
      "sigma2[0]    0.000035\n",
      "sigma2[1]    0.000190\n",
      "dtype: float64\n",
      "Processing split date: 2003-01-01\n"
     ]
    },
    {
     "name": "stderr",
     "output_type": "stream",
     "text": [
      "C:\\Users\\NicholasRatti\\anaconda3\\envs\\msm_env\\lib\\site-packages\\statsmodels\\tsa\\base\\tsa_model.py:473: ValueWarning: A date index has been provided, but it has no associated frequency information and so will be ignored when e.g. forecasting.\n",
      "  self._init_dates(dates, freq)\n"
     ]
    },
    {
     "name": "stdout",
     "output_type": "stream",
     "text": [
      "Model parameters:\n",
      "p[0->0]      0.986908\n",
      "p[1->0]      0.035855\n",
      "const[0]     0.000568\n",
      "const[1]    -0.000292\n",
      "sigma2[0]    0.000036\n",
      "sigma2[1]    0.000203\n",
      "dtype: float64\n",
      "Processing split date: 2004-01-01\n"
     ]
    },
    {
     "name": "stderr",
     "output_type": "stream",
     "text": [
      "C:\\Users\\NicholasRatti\\anaconda3\\envs\\msm_env\\lib\\site-packages\\statsmodels\\tsa\\base\\tsa_model.py:473: ValueWarning: A date index has been provided, but it has no associated frequency information and so will be ignored when e.g. forecasting.\n",
      "  self._init_dates(dates, freq)\n"
     ]
    },
    {
     "name": "stdout",
     "output_type": "stream",
     "text": [
      "Model parameters:\n",
      "p[0->0]      0.987273\n",
      "p[1->0]      0.033198\n",
      "const[0]     0.000576\n",
      "const[1]    -0.000236\n",
      "sigma2[0]    0.000036\n",
      "sigma2[1]    0.000199\n",
      "dtype: float64\n",
      "Processing split date: 2005-01-01\n"
     ]
    },
    {
     "name": "stderr",
     "output_type": "stream",
     "text": [
      "C:\\Users\\NicholasRatti\\anaconda3\\envs\\msm_env\\lib\\site-packages\\statsmodels\\tsa\\base\\tsa_model.py:473: ValueWarning: A date index has been provided, but it has no associated frequency information and so will be ignored when e.g. forecasting.\n",
      "  self._init_dates(dates, freq)\n"
     ]
    },
    {
     "name": "stdout",
     "output_type": "stream",
     "text": [
      "Model parameters:\n",
      "p[0->0]      0.987695\n",
      "p[1->0]      0.033342\n",
      "const[0]     0.000574\n",
      "const[1]    -0.000253\n",
      "sigma2[0]    0.000036\n",
      "sigma2[1]    0.000200\n",
      "dtype: float64\n",
      "Processing split date: 2006-01-01\n"
     ]
    },
    {
     "name": "stderr",
     "output_type": "stream",
     "text": [
      "C:\\Users\\NicholasRatti\\anaconda3\\envs\\msm_env\\lib\\site-packages\\statsmodels\\tsa\\base\\tsa_model.py:473: ValueWarning: A date index has been provided, but it has no associated frequency information and so will be ignored when e.g. forecasting.\n",
      "  self._init_dates(dates, freq)\n"
     ]
    },
    {
     "name": "stdout",
     "output_type": "stream",
     "text": [
      "Model parameters:\n",
      "p[0->0]      0.987778\n",
      "p[1->0]      0.033619\n",
      "const[0]     0.000564\n",
      "const[1]    -0.000249\n",
      "sigma2[0]    0.000036\n",
      "sigma2[1]    0.000199\n",
      "dtype: float64\n",
      "Processing split date: 2007-01-01\n"
     ]
    },
    {
     "name": "stderr",
     "output_type": "stream",
     "text": [
      "C:\\Users\\NicholasRatti\\anaconda3\\envs\\msm_env\\lib\\site-packages\\statsmodels\\tsa\\base\\tsa_model.py:473: ValueWarning: A date index has been provided, but it has no associated frequency information and so will be ignored when e.g. forecasting.\n",
      "  self._init_dates(dates, freq)\n"
     ]
    },
    {
     "name": "stdout",
     "output_type": "stream",
     "text": [
      "Model parameters:\n",
      "p[0->0]      0.987780\n",
      "p[1->0]      0.033389\n",
      "const[0]     0.000567\n",
      "const[1]    -0.000242\n",
      "sigma2[0]    0.000036\n",
      "sigma2[1]    0.000197\n",
      "dtype: float64\n",
      "Processing split date: 2008-01-01\n"
     ]
    },
    {
     "name": "stderr",
     "output_type": "stream",
     "text": [
      "C:\\Users\\NicholasRatti\\anaconda3\\envs\\msm_env\\lib\\site-packages\\statsmodels\\tsa\\base\\tsa_model.py:473: ValueWarning: A date index has been provided, but it has no associated frequency information and so will be ignored when e.g. forecasting.\n",
      "  self._init_dates(dates, freq)\n"
     ]
    },
    {
     "name": "stdout",
     "output_type": "stream",
     "text": [
      "Model parameters:\n",
      "p[0->0]      0.987379\n",
      "p[1->0]      0.033336\n",
      "const[0]     0.000574\n",
      "const[1]    -0.000254\n",
      "sigma2[0]    0.000036\n",
      "sigma2[1]    0.000195\n",
      "dtype: float64\n",
      "Processing split date: 2009-01-01\n"
     ]
    },
    {
     "name": "stderr",
     "output_type": "stream",
     "text": [
      "C:\\Users\\NicholasRatti\\anaconda3\\envs\\msm_env\\lib\\site-packages\\statsmodels\\tsa\\base\\tsa_model.py:473: ValueWarning: A date index has been provided, but it has no associated frequency information and so will be ignored when e.g. forecasting.\n",
      "  self._init_dates(dates, freq)\n"
     ]
    },
    {
     "name": "stdout",
     "output_type": "stream",
     "text": [
      "Model parameters:\n",
      "p[0->0]      0.989076\n",
      "p[1->0]      0.036725\n",
      "const[0]     0.000557\n",
      "const[1]    -0.000504\n",
      "sigma2[0]    0.000039\n",
      "sigma2[1]    0.000259\n",
      "dtype: float64\n",
      "Processing split date: 2010-01-01\n"
     ]
    },
    {
     "name": "stderr",
     "output_type": "stream",
     "text": [
      "C:\\Users\\NicholasRatti\\anaconda3\\envs\\msm_env\\lib\\site-packages\\statsmodels\\tsa\\base\\tsa_model.py:473: ValueWarning: A date index has been provided, but it has no associated frequency information and so will be ignored when e.g. forecasting.\n",
      "  self._init_dates(dates, freq)\n"
     ]
    },
    {
     "name": "stdout",
     "output_type": "stream",
     "text": [
      "Model parameters:\n",
      "p[0->0]      0.989433\n",
      "p[1->0]      0.035490\n",
      "const[0]     0.000555\n",
      "const[1]    -0.000443\n",
      "sigma2[0]    0.000040\n",
      "sigma2[1]    0.000270\n",
      "dtype: float64\n",
      "Processing split date: 2011-01-01\n"
     ]
    },
    {
     "name": "stderr",
     "output_type": "stream",
     "text": [
      "C:\\Users\\NicholasRatti\\anaconda3\\envs\\msm_env\\lib\\site-packages\\statsmodels\\tsa\\base\\tsa_model.py:473: ValueWarning: A date index has been provided, but it has no associated frequency information and so will be ignored when e.g. forecasting.\n",
      "  self._init_dates(dates, freq)\n"
     ]
    },
    {
     "name": "stdout",
     "output_type": "stream",
     "text": [
      "Model parameters:\n",
      "p[0->0]      0.989196\n",
      "p[1->0]      0.035112\n",
      "const[0]     0.000575\n",
      "const[1]    -0.000468\n",
      "sigma2[0]    0.000040\n",
      "sigma2[1]    0.000267\n",
      "dtype: float64\n",
      "Processing split date: 2012-01-01\n"
     ]
    },
    {
     "name": "stderr",
     "output_type": "stream",
     "text": [
      "C:\\Users\\NicholasRatti\\anaconda3\\envs\\msm_env\\lib\\site-packages\\statsmodels\\tsa\\base\\tsa_model.py:473: ValueWarning: A date index has been provided, but it has no associated frequency information and so will be ignored when e.g. forecasting.\n",
      "  self._init_dates(dates, freq)\n"
     ]
    },
    {
     "name": "stdout",
     "output_type": "stream",
     "text": [
      "Model parameters:\n",
      "p[0->0]      0.989320\n",
      "p[1->0]      0.034179\n",
      "const[0]     0.000577\n",
      "const[1]    -0.000481\n",
      "sigma2[0]    0.000040\n",
      "sigma2[1]    0.000272\n",
      "dtype: float64\n",
      "Processing split date: 2013-01-01\n"
     ]
    },
    {
     "name": "stderr",
     "output_type": "stream",
     "text": [
      "C:\\Users\\NicholasRatti\\anaconda3\\envs\\msm_env\\lib\\site-packages\\statsmodels\\tsa\\base\\tsa_model.py:473: ValueWarning: A date index has been provided, but it has no associated frequency information and so will be ignored when e.g. forecasting.\n",
      "  self._init_dates(dates, freq)\n"
     ]
    },
    {
     "name": "stdout",
     "output_type": "stream",
     "text": [
      "Model parameters:\n",
      "p[0->0]      0.989347\n",
      "p[1->0]      0.034844\n",
      "const[0]     0.000575\n",
      "const[1]    -0.000477\n",
      "sigma2[0]    0.000041\n",
      "sigma2[1]    0.000272\n",
      "dtype: float64\n",
      "Processing split date: 2014-01-01\n"
     ]
    },
    {
     "name": "stderr",
     "output_type": "stream",
     "text": [
      "C:\\Users\\NicholasRatti\\anaconda3\\envs\\msm_env\\lib\\site-packages\\statsmodels\\tsa\\base\\tsa_model.py:473: ValueWarning: A date index has been provided, but it has no associated frequency information and so will be ignored when e.g. forecasting.\n",
      "  self._init_dates(dates, freq)\n"
     ]
    },
    {
     "name": "stdout",
     "output_type": "stream",
     "text": [
      "Model parameters:\n",
      "p[0->0]      0.989009\n",
      "p[1->0]      0.036131\n",
      "const[0]     0.000590\n",
      "const[1]    -0.000481\n",
      "sigma2[0]    0.000040\n",
      "sigma2[1]    0.000271\n",
      "dtype: float64\n",
      "Processing split date: 2015-01-01\n"
     ]
    },
    {
     "name": "stderr",
     "output_type": "stream",
     "text": [
      "C:\\Users\\NicholasRatti\\anaconda3\\envs\\msm_env\\lib\\site-packages\\statsmodels\\tsa\\base\\tsa_model.py:473: ValueWarning: A date index has been provided, but it has no associated frequency information and so will be ignored when e.g. forecasting.\n",
      "  self._init_dates(dates, freq)\n"
     ]
    },
    {
     "name": "stdout",
     "output_type": "stream",
     "text": [
      "Model parameters:\n",
      "p[0->0]      0.988359\n",
      "p[1->0]      0.037603\n",
      "const[0]     0.000597\n",
      "const[1]    -0.000481\n",
      "sigma2[0]    0.000040\n",
      "sigma2[1]    0.000266\n",
      "dtype: float64\n",
      "Processing split date: 2016-01-01\n"
     ]
    },
    {
     "name": "stderr",
     "output_type": "stream",
     "text": [
      "C:\\Users\\NicholasRatti\\anaconda3\\envs\\msm_env\\lib\\site-packages\\statsmodels\\tsa\\base\\tsa_model.py:473: ValueWarning: A date index has been provided, but it has no associated frequency information and so will be ignored when e.g. forecasting.\n",
      "  self._init_dates(dates, freq)\n"
     ]
    },
    {
     "name": "stdout",
     "output_type": "stream",
     "text": [
      "Model parameters:\n",
      "p[0->0]      0.988340\n",
      "p[1->0]      0.037625\n",
      "const[0]     0.000594\n",
      "const[1]    -0.000494\n",
      "sigma2[0]    0.000040\n",
      "sigma2[1]    0.000266\n",
      "dtype: float64\n",
      "Processing split date: 2017-01-01\n"
     ]
    },
    {
     "name": "stderr",
     "output_type": "stream",
     "text": [
      "C:\\Users\\NicholasRatti\\anaconda3\\envs\\msm_env\\lib\\site-packages\\statsmodels\\tsa\\base\\tsa_model.py:473: ValueWarning: A date index has been provided, but it has no associated frequency information and so will be ignored when e.g. forecasting.\n",
      "  self._init_dates(dates, freq)\n"
     ]
    },
    {
     "name": "stdout",
     "output_type": "stream",
     "text": [
      "Model parameters:\n",
      "p[0->0]      0.987968\n",
      "p[1->0]      0.037971\n",
      "const[0]     0.000600\n",
      "const[1]    -0.000487\n",
      "sigma2[0]    0.000040\n",
      "sigma2[1]    0.000262\n",
      "dtype: float64\n",
      "Processing split date: 2018-01-01\n"
     ]
    },
    {
     "name": "stderr",
     "output_type": "stream",
     "text": [
      "C:\\Users\\NicholasRatti\\anaconda3\\envs\\msm_env\\lib\\site-packages\\statsmodels\\tsa\\base\\tsa_model.py:473: ValueWarning: A date index has been provided, but it has no associated frequency information and so will be ignored when e.g. forecasting.\n",
      "  self._init_dates(dates, freq)\n"
     ]
    },
    {
     "name": "stdout",
     "output_type": "stream",
     "text": [
      "Model parameters:\n",
      "p[0->0]      0.987663\n",
      "p[1->0]      0.037903\n",
      "const[0]     0.000607\n",
      "const[1]    -0.000465\n",
      "sigma2[0]    0.000039\n",
      "sigma2[1]    0.000256\n",
      "dtype: float64\n",
      "Processing split date: 2019-01-01\n"
     ]
    },
    {
     "name": "stderr",
     "output_type": "stream",
     "text": [
      "C:\\Users\\NicholasRatti\\anaconda3\\envs\\msm_env\\lib\\site-packages\\statsmodels\\tsa\\base\\tsa_model.py:473: ValueWarning: A date index has been provided, but it has no associated frequency information and so will be ignored when e.g. forecasting.\n",
      "  self._init_dates(dates, freq)\n"
     ]
    },
    {
     "name": "stdout",
     "output_type": "stream",
     "text": [
      "Model parameters:\n",
      "p[0->0]      0.987446\n",
      "p[1->0]      0.037441\n",
      "const[0]     0.000614\n",
      "const[1]    -0.000498\n",
      "sigma2[0]    0.000038\n",
      "sigma2[1]    0.000254\n",
      "dtype: float64\n"
     ]
    }
   ],
   "source": [
    "# Loop over each split date\n",
    "for split_date in split_dates:\n",
    "    print(f\"Processing split date: {split_date}\")\n",
    "    # Split data into train and test sets\n",
    "    train = data.loc[data.index < split_date, 'Index_Returns']\n",
    "    test = data.loc[data.index >= split_date, 'Index_Returns']\n",
    "    \n",
    "    # Skip if training data is too short\n",
    "    if len(train) < 100:\n",
    "        print(f\"Not enough training data before {split_date}, skipping.\")\n",
    "        results.append({\n",
    "            'split_date': split_date,\n",
    "            'num_mismatches': np.nan,\n",
    "            'test_period_length': len(test),\n",
    "            'mismatch_percentage': np.nan\n",
    "        })\n",
    "        continue\n",
    "    \n",
    "    # Fit the Markov Switching Model on the training data with switching trend\n",
    "    train_model = MarkovRegression(train, k_regimes=2, trend='c', switching_variance=True, switching_trend=True)\n",
    "    train_result = train_model.fit(disp=False)\n",
    "    \n",
    "    # Get the smoothed probabilities and regimes from training data\n",
    "    smoothed_probs_train = train_result.smoothed_marginal_probabilities\n",
    "    train_regimes = smoothed_probs_train.idxmax(axis=1)\n",
    "    \n",
    "    # Extract the last known state probabilities (at the end of the training data)\n",
    "    last_probs = smoothed_probs_train.iloc[-1].values  # Convert to NumPy array\n",
    "    \n",
    "    # Regime labels (from smoothed probabilities)\n",
    "    regime_labels = smoothed_probs_train.columns.tolist()  # Should be [0, 1]\n",
    "    \n",
    "    # Extract transition probabilities from the model parameters\n",
    "    params = train_result.params\n",
    "\n",
    "    # Debug: Print the parameters to check their names\n",
    "    print(\"Model parameters:\")\n",
    "    print(params)\n",
    "    \n",
    "    # Transition probabilities\n",
    "    p_00 = params['p[0->0]']  # Probability of staying in Regime 0\n",
    "    p_10 = params['p[1->0]']  # Probability of moving from Regime 1 to Regime 0\n",
    "    \n",
    "    # Probabilities of transitioning to Regime 1\n",
    "    p_01 = 1 - p_00           # Probability of moving from Regime 0 to Regime 1\n",
    "    p_11 = 1 - p_10           # Probability of staying in Regime 1\n",
    "    \n",
    "    # Construct the transition matrix\n",
    "    transition_matrix = np.array([\n",
    "        [p_00, p_01],  # Transitions from Regime 0\n",
    "        [p_10, p_11]   # Transitions from Regime 1\n",
    "    ])\n",
    "    \n",
    "    # Regime-specific means and variances\n",
    "    means = [params[f'const[{i}]'] for i in range(2)]      # Updated parameter names\n",
    "    variances = [params[f'sigma2[{i}]'] for i in range(2)]\n",
    "    \n",
    "    # Initialize DataFrame for test data\n",
    "    test_data = pd.DataFrame(index=test.index)\n",
    "    test_data['Index_Returns'] = test\n",
    "    test_data['State_Prob_Regime0'] = np.nan\n",
    "    test_data['State_Prob_Regime1'] = np.nan\n",
    "    test_data['Predicted_Regime'] = np.nan\n",
    "    \n",
    "    # Initialize state probabilities with the last known probabilities from the training data\n",
    "    state_probs = last_probs.copy()\n",
    "    \n",
    "    # Loop over each date in the test set\n",
    "    for date in test.index:\n",
    "        # Predict step: update state probabilities using the transition matrix\n",
    "        state_probs = np.dot(state_probs, transition_matrix)\n",
    "        \n",
    "        # Update step: compute emission probabilities (likelihood of observation given state)\n",
    "        y = test_data.at[date, 'Index_Returns']\n",
    "        emission_probs = np.array([\n",
    "            (1 / np.sqrt(2 * np.pi * variances[i])) * np.exp(-0.5 * ((y - means[i]) ** 2) / variances[i])\n",
    "            for i in range(2)\n",
    "        ])\n",
    "        \n",
    "        # Update state probabilities with emission probabilities\n",
    "        state_probs = state_probs * emission_probs\n",
    "        \n",
    "        # Normalize state probabilities\n",
    "        state_probs /= np.sum(state_probs)\n",
    "        \n",
    "        # Store the state probabilities in the DataFrame\n",
    "        test_data.at[date, 'State_Prob_Regime0'] = state_probs[0]\n",
    "        test_data.at[date, 'State_Prob_Regime1'] = state_probs[1]\n",
    "        \n",
    "        # Determine the most likely regime\n",
    "        most_likely_regime = regime_labels[np.argmax(state_probs)]\n",
    "        \n",
    "        # Store the predicted regime in the DataFrame\n",
    "        test_data.at[date, 'Predicted_Regime'] = most_likely_regime\n",
    "    \n",
    "    # Map the predicted regimes to integer type\n",
    "    test_data['Predicted_Regime'] = test_data['Predicted_Regime'].astype(int)\n",
    "    \n",
    "    # Get the 'true' regimes from the full model for the test period\n",
    "    true_regimes = full_regimes.loc[test.index].astype(int)\n",
    "    \n",
    "    # Compare the predicted regimes with the true regimes\n",
    "    mismatches = test_data['Predicted_Regime'] != true_regimes\n",
    "    num_mismatches = mismatches.sum()\n",
    "    test_period_length = len(test_data)\n",
    "    \n",
    "    # Store the results\n",
    "    results.append({\n",
    "        'split_date': split_date,\n",
    "        'num_mismatches': num_mismatches,\n",
    "        'test_period_length': test_period_length,\n",
    "        'mismatch_percentage': (num_mismatches / test_period_length * 100) if test_period_length > 0 else np.nan\n",
    "    })"
   ]
  },
  {
   "cell_type": "code",
   "execution_count": 12,
   "metadata": {},
   "outputs": [
    {
     "data": {
      "image/png": "[encoded data removed]",
      "text/plain": [
       "<Figure size 1200x600 with 1 Axes>"
      ]
     },
     "metadata": {},
     "output_type": "display_data"
    },
    {
     "data": {
      "image/png": "[encoded data removed]",
      "text/plain": [
       "<Figure size 1200x600 with 1 Axes>"
      ]
     },
     "metadata": {},
     "output_type": "display_data"
    }
   ],
   "source": [
    "# Convert the results to a DataFrame\n",
    "results_df = pd.DataFrame(results)\n",
    "results_df['split_year'] = pd.to_datetime(results_df['split_date']).dt.year\n",
    "\n",
    "# Plot the number of mismatches vs split date\n",
    "plt.figure(figsize=(12, 6))\n",
    "plt.plot(results_df['split_year'], results_df['num_mismatches'], marker='o', linestyle='-')\n",
    "plt.title('Number of Mismatches vs Split Date')\n",
    "plt.xlabel('Split Year')\n",
    "plt.ylabel('Number of Mismatches')\n",
    "plt.grid(True)\n",
    "plt.show()\n",
    "\n",
    "# Alternatively, plot the mismatch percentage\n",
    "plt.figure(figsize=(12, 6))\n",
    "plt.plot(results_df['split_year'], results_df['mismatch_percentage'], marker='o', linestyle='-')\n",
    "plt.title('Mismatch Percentage vs Split Date')\n",
    "plt.xlabel('Split Year')\n",
    "plt.ylabel('Mismatch Percentage (%)')\n",
    "plt.grid(True)\n",
    "plt.show()"
   ]
  },
  {
   "cell_type": "code",
   "execution_count": null,
   "metadata": {},
   "outputs": [],
   "source": []
  }
 ],
 "metadata": {
  "kernelspec": {
   "display_name": "Python (msm_env)",
   "language": "python",
   "name": "msm_env"
  },
  "language_info": {
   "codemirror_mode": {
    "name": "ipython",
    "version": 3
   },
   "file_extension": ".py",
   "mimetype": "text/x-python",
   "name": "python",
   "nbconvert_exporter": "python",
   "pygments_lexer": "ipython3",
   "version": "3.10.15"
  }
 },
 "nbformat": 4,
 "nbformat_minor": 2
}
